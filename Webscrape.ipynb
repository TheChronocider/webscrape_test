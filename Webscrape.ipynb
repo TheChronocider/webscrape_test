{
 "cells": [
  {
   "cell_type": "code",
   "execution_count": 1,
   "metadata": {},
   "outputs": [],
   "source": [
    "#import re\n",
    "#import urllib.request"
   ]
  },
  {
   "cell_type": "code",
   "execution_count": 99,
   "metadata": {},
   "outputs": [],
   "source": [
    "#response = urllib.request.urlopen('https://aip.com.au/pricing/new-south-walesact-retail-petrol-prices')\n",
    "#html = response.read()\n",
    "#text = html.decode()\n",
    "\n",
    "#print (text)"
   ]
  },
  {
   "cell_type": "code",
   "execution_count": 132,
   "metadata": {},
   "outputs": [],
   "source": [
    "from selenium import webdriver\n",
    "import re # Importing regex\n",
    "import datetime\n",
    "import csv"
   ]
  },
  {
   "cell_type": "code",
   "execution_count": 133,
   "metadata": {},
   "outputs": [],
   "source": [
    "# Driver is a necessary program that is used to emulate a web browser activity allowing us to view dynamic content\n",
    "# As the site that we are targeting uses dynamic content, we can only view it via this\n",
    "# The path to the web driver is relative to the program, hence just place this program and the webdriver in the same folder\n",
    "path = r'.\\Chromedriver'\n",
    "driver = webdriver.Chrome(executable_path = path)"
   ]
  },
  {
   "cell_type": "code",
   "execution_count": 134,
   "metadata": {},
   "outputs": [],
   "source": [
    "# Executing the driver with the web address we're targeting\n",
    "driver.get('https://aip.com.au/pricing/new-south-walesact-retail-petrol-prices')"
   ]
  },
  {
   "cell_type": "code",
   "execution_count": 135,
   "metadata": {},
   "outputs": [],
   "source": [
    "\n",
    "def split_string(fstring):\n",
    "    # Return is string is empty\n",
    "    if len(fstring) <= 0:\n",
    "        return []\n",
    "    \n",
    "    # Check if current char is not a white space\n",
    "    if fstring[:1] != ' ':\n",
    "        # Current value found, get word remainder\n",
    "        value = split_word(fstring)\n",
    "        \n",
    "        # Return array of found value and remainder\n",
    "        return [value[0]] + split_string(value[1])\n",
    "        \n",
    "    else:\n",
    "        # No current value, continue to next\n",
    "        return split_string(fstring[1:])\n",
    "    \n",
    "    # If current char is whitespace but next is a letter, then complete sentence\n",
    "    #elif fstring[1:][:1].isalpha():\n",
    "    \n",
    "\n",
    "def split_word(fstring):\n",
    "    # Check if we've got chars left\n",
    "    if len(fstring) <= 0:\n",
    "        return '', ''\n",
    "    \n",
    "    # Check if we haven't reached the end of the word\n",
    "    if (fstring[:1] != ' ') | ((len(fstring) >= 2) & (fstring[1:2].isalpha())):\n",
    "        value = split_word(fstring[1:])\n",
    "        return fstring[:1] + value[0] , value[1]\n",
    "    \n",
    "    else:\n",
    "        return '', fstring\n",
    "    \n",
    "    return '', ''\n",
    "\n"
   ]
  },
  {
   "cell_type": "code",
   "execution_count": 136,
   "metadata": {},
   "outputs": [],
   "source": [
    "def get_Canberra(flist):\n",
    "    for element in flist:\n",
    "        if 'Canberra' in element:\n",
    "            return element"
   ]
  },
  {
   "cell_type": "code",
   "execution_count": 137,
   "metadata": {},
   "outputs": [],
   "source": [
    "#test = \"Week ending Sunday, 13th September 2020\"\n",
    "#test = \"13th September 2020\"\n",
    "\n",
    "#def get_date(fstring):\n",
    "    #Week ending Sunday, 13th September 2020 Date example\n",
    "    #ddxx\n",
    "    #regex = re.search(r\"\\b[1-3]?[0-9]{1}((th)|(rd)|(st)) [A-Z][a-z]+ [0-9]{4}\", fstring)\n",
    "#    regex = re.search(r\"\\b[1-3]?[0-9]{1}.* [A-Z][a-z]+ [0-9]{4}\", fstring)\n",
    "#    return regex.group().sub(\"\",\"((th)|(rd)|(st))\") if regex else \"None\"\n",
    "\n",
    "#%d %B %Y\n",
    "#print (get_date(test))"
   ]
  },
  {
   "cell_type": "code",
   "execution_count": 144,
   "metadata": {},
   "outputs": [
    {
     "name": "stdout",
     "output_type": "stream",
     "text": [
      "['Sydney', '124.4', '-9.6', '-', '118.8', '129.7', 'Canberra', '122.2', '-0.1', '-2.1', '122.0', '122.3', 'Batemans Bay', '122.6', '0.1', '-1.8', '122.6', '122.6', 'Coffs Harbour', '119.5', '-0.0', '-4.9', '119.4', '119.5', 'Cooma', '123.5', '-0.1', '-0.8', '123.3', '123.7', 'Goulburn', '119.0', '-0.6', '-5.4', '118.2', '119.6', 'Wollongong', '123.9', '-2.4', '-0.5', '123.3', '124.7', 'Yass', '120.0', '0.3', '-4.3', '119.5', '121.8']\n"
     ]
    }
   ],
   "source": [
    "# Driver.find_elements_by_css_selector returns an Array of elements that match the selector's criteria\n",
    "# We have this in an array which is populated by a for loop which grabs the text values for the elements\n",
    "#elements = [element.text.split(' ') for element in driver.find_elements_by_css_selector('tr')]\n",
    "elements = [split_string(element.text) for element in driver.find_elements_by_css_selector('tr')]\n",
    "\n",
    "# Want to get the current week\n",
    "#current_week = \" \".join(elements[0])\n",
    "targets = ['Canberra', 'Sydney', 'Batemans Bay', 'Cooma', 'Goulburn', 'Coffs Harbour', 'Wollongong', 'Yass']\n",
    "# Will work on getting this single lined\n",
    "current_prices = []\n",
    "for element in elements:\n",
    "    if element[0] in targets:\n",
    "        current_prices = current_prices + element\n",
    "\n",
    "print (current_prices)"
   ]
  },
  {
   "cell_type": "code",
   "execution_count": 122,
   "metadata": {},
   "outputs": [],
   "source": [
    "# Getting date of last Sunday which represents the end of the last week period in order to record accurate data\n",
    "curr_day = datetime.date.today()\n",
    "idx = (curr_day.weekday() + 1) % 7\n",
    "# Calculation to get the last Sunday\n",
    "curr_week = curr_day - datetime.timedelta(idx)\n",
    "## I know it's ugly, but I am struggling to do better\n",
    "curr_timestamp = datetime.datetime(curr_week.year,curr_week.month,curr_week.day).timestamp()"
   ]
  },
  {
   "cell_type": "code",
   "execution_count": 131,
   "metadata": {
    "scrolled": true
   },
   "outputs": [
    {
     "name": "stdout",
     "output_type": "stream",
     "text": [
      "1599919200.0\n"
     ]
    }
   ],
   "source": [
    "print(datetime.datetime(curr_week.year,curr_week.month,curr_week.day).timestamp())"
   ]
  },
  {
   "cell_type": "code",
   "execution_count": null,
   "metadata": {},
   "outputs": [],
   "source": [
    "with open()"
   ]
  },
  {
   "cell_type": "code",
   "execution_count": null,
   "metadata": {},
   "outputs": [],
   "source": []
  },
  {
   "cell_type": "code",
   "execution_count": 22,
   "metadata": {},
   "outputs": [],
   "source": [
    "driver.close()"
   ]
  },
  {
   "cell_type": "code",
   "execution_count": null,
   "metadata": {},
   "outputs": [],
   "source": []
  }
 ],
 "metadata": {
  "kernelspec": {
   "display_name": "Python 3",
   "language": "python",
   "name": "python3"
  },
  "language_info": {
   "codemirror_mode": {
    "name": "ipython",
    "version": 3
   },
   "file_extension": ".py",
   "mimetype": "text/x-python",
   "name": "python",
   "nbconvert_exporter": "python",
   "pygments_lexer": "ipython3",
   "version": "3.8.5"
  }
 },
 "nbformat": 4,
 "nbformat_minor": 4
}
