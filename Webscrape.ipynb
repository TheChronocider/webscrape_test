{
 "cells": [
  {
   "cell_type": "code",
   "execution_count": 1,
   "metadata": {},
   "outputs": [],
   "source": [
    "# = = = = = = = = = = = = = \n",
    "# Created:       15:09:2020\n",
    "# Last Updated:  21:09:2020\n",
    "#\n",
    "# Description:  Webscraper targeted at reading table format of fuel prices provided by AIP and preserve them in CSV format\n",
    "#               Focused on using Requests library\n",
    "# = = = = = = = = = = = = = "
   ]
  },
  {
   "cell_type": "code",
   "execution_count": 2,
   "metadata": {},
   "outputs": [],
   "source": [
    "import datetime\n",
    "import os\n",
    "import csv\n",
    "\n",
    "# Focusing on only using Requests\n",
    "import requests"
   ]
  },
  {
   "cell_type": "code",
   "execution_count": 3,
   "metadata": {},
   "outputs": [],
   "source": [
    "# Input/s:  String, datetime\n",
    "# Output/s: Boolean\n",
    "#\n",
    "# Description: Checks if file exists and then checks if current week has been recorded. Returns true is current week recorded, else false\n",
    "#\n",
    "def check_week(fFileName, fCurr_time):\n",
    "    if os.path.exists(fFileName):\n",
    "        with open(fFileName) as fd:\n",
    "            # Read CSV\n",
    "            reader = csv.reader(fd, delimiter=',')\n",
    "            # Skip header line\n",
    "            next(reader)\n",
    "            for element in reader:\n",
    "                # Compare and exit if we have completed this timestamp before\n",
    "                if float(element[0]) == fCurr_time.timestamp():\n",
    "                    # Return that we found that we have done this week\n",
    "                    return True\n",
    "    # Create CSV if not exists\n",
    "    else:\n",
    "        with open(fFileName, 'w', newline='') as fd:\n",
    "            writer = csv.writer(fd)\n",
    "            # Write Headers\n",
    "            writer.writerow([\"Timestamp (Unix)\",\"Date (YYYY-MM-DD)\",\"Location\", \"Weekly Average\", \"Weekly Change\", \"Variation\", \"Weekly Low\", \"Weekly High\"])\n",
    "    \n",
    "    # Return false as timestamp doesn't already exists\n",
    "    return False\n",
    "    "
   ]
  },
  {
   "cell_type": "code",
   "execution_count": 4,
   "metadata": {},
   "outputs": [],
   "source": [
    "# Fuel data CSV\n",
    "fileName = \"fuel_data.csv\"\n",
    "\n",
    "# Target Cities\n",
    "targets = ['canberra', 'sydney', 'batemans bay', 'cooma', 'goulburn', 'coffs harbour', 'wollongong', 'yass']\n",
    "\n",
    "# Link to the JSON that contains week values\n",
    "url = requests.get('https://aip.com.au/aip-api-request?api-path=public/api&call=nswUlpTable&fuelType=undefined')"
   ]
  },
  {
   "cell_type": "code",
   "execution_count": 10,
   "metadata": {},
   "outputs": [
    {
     "name": "stdout",
     "output_type": "stream",
     "text": [
      "0\n"
     ]
    }
   ],
   "source": [
    "# Get current date\n",
    "curr_day = datetime.date.today()\n",
    "\n",
    "# Calculate day subtraction to retrieve Sunday\n",
    "idx = (curr_day.weekday() +1) % 7\n",
    "\n",
    "# Get datetime.date of last sunday\n",
    "curr_week = curr_day - datetime.timedelta(idx)\n",
    "\n",
    "# Convert to datetime object\n",
    "curr_time = datetime.datetime(curr_week.year,curr_week.month,curr_week.day)"
   ]
  },
  {
   "cell_type": "code",
   "execution_count": 18,
   "metadata": {},
   "outputs": [
    {
     "name": "stdout",
     "output_type": "stream",
     "text": [
      "-9.0\n"
     ]
    }
   ],
   "source": []
  },
  {
   "cell_type": "code",
   "execution_count": 23,
   "metadata": {},
   "outputs": [],
   "source": [
    "class Weekly_Price:\n",
    "    #This object requires values to be made\n",
    "    #\"Timestamp (Unix)\",\"Date (YYYY-MM-DD)\",\"Location\", \"Weekly Average\", \"Weekly Change\", \"Variation\", \"Weekly Low\", \"Weekly High\", \"flagged (y/n)\"\n",
    "    def __init__(self, time, date, loc, avg, chng, var, low, high, flag):\n",
    "        self.time = float(time)\n",
    "        self.date = date\n",
    "        self.loc = loc\n",
    "        self.avg = float(avg)\n",
    "   \n",
    "        self.low = float(low)\n",
    "        self.high = float(high)\n",
    "        \n",
    "        self.flag = flag\n",
    "        \n",
    "        # Below values have the potential to be \"-\"\n",
    "        # Check if chng has a value else it's empty\n",
    "        self.chng = float(chng) if isinstance(chng, float) else 0.0\n",
    "        # Check if var has a value else it's empty\n",
    "        self.var = float(var) if isinstance(var, float) else 0.0\n",
    "       \n",
    "    # Convert object to a useable array to be written to file\n",
    "    def Write_Array():\n",
    "        return [str(self.time),\n",
    "               self.date,\n",
    "               self.loc,\n",
    "               str(self.avg),\n",
    "               str(self.chng),\n",
    "               str(self.var),\n",
    "               str(self.low),\n",
    "               str(self.high),\n",
    "               self.flag]\n",
    "        "
   ]
  },
  {
   "cell_type": "code",
   "execution_count": 26,
   "metadata": {
    "scrolled": false
   },
   "outputs": [
    {
     "name": "stdout",
     "output_type": "stream",
     "text": [
      "1599919200.0 Sydney 124.4\n",
      "1599919200.0 Canberra 122.2\n",
      "1599919200.0 Batemans Bay 122.6\n",
      "1599919200.0 Coffs Harbour 119.5\n",
      "1599919200.0 Cooma 123.5\n",
      "1599919200.0 Goulburn 119.0\n",
      "1599919200.0 Wollongong 123.9\n",
      "1599919200.0 Yass 120.0\n",
      "1600524000.0 Sydney 124.4\n",
      "1600524000.0 Canberra 122.2\n",
      "1600524000.0 Batemans Bay 122.6\n",
      "1600524000.0 Coffs Harbour 119.5\n",
      "1600524000.0 Cooma 123.5\n",
      "1600524000.0 Goulburn 119.0\n",
      "1600524000.0 Wollongong 123.9\n",
      "1600524000.0 Yass 120.0\n",
      "1601128800.0 Sydney 113.8\n",
      "1601128800.0 Canberra 122.0\n",
      "1601128800.0 Batemans Bay 122.6\n",
      "1601128800.0 Coffs Harbour 119.3\n",
      "1601128800.0 Cooma 123.1\n",
      "1601128800.0 Goulburn 117.3\n",
      "1601128800.0 Wollongong 122.2\n",
      "1601128800.0 Yass 120.8\n",
      "1601733600.0 Sydney 114.1\n",
      "1601733600.0 Canberra 120.8\n",
      "1601733600.0 Batemans Bay 122.6\n",
      "1601733600.0 Coffs Harbour 119.5\n",
      "1601733600.0 Cooma 122.6\n",
      "1601733600.0 Goulburn 116.6\n",
      "1601733600.0 Wollongong 119.9\n",
      "1601733600.0 Yass 119.8\n",
      "1602334800.0 Sydney 132.0\n",
      "1602334800.0 Canberra 120.9\n",
      "1602334800.0 Batemans Bay 122.7\n",
      "1602334800.0 Coffs Harbour 119.5\n",
      "1602334800.0 Cooma 122.6\n",
      "1602334800.0 Goulburn 116.4\n",
      "1602334800.0 Wollongong 120.0\n",
      "1602334800.0 Yass 120.1\n",
      "1602939600.0 Sydney 132.0\n",
      "1602939600.0 Canberra 120.9\n",
      "1602939600.0 Batemans Bay 122.7\n",
      "1602939600.0 Coffs Harbour 119.5\n",
      "1602939600.0 Cooma 122.6\n",
      "1602939600.0 Goulburn 116.4\n",
      "1602939600.0 Wollongong 120.0\n",
      "1602939600.0 Yass 120.1\n",
      "1603544400.0 Sydney 118.6\n",
      "1603544400.0 Canberra 121.0\n",
      "1603544400.0 Batemans Bay 123.1\n",
      "1603544400.0 Coffs Harbour 119.5\n",
      "1603544400.0 Cooma 122.0\n",
      "1603544400.0 Goulburn 116.4\n",
      "1603544400.0 Wollongong 119.1\n",
      "1603544400.0 Yass 119.9\n",
      "1604149200.0 Sydney 108.7\n",
      "1604149200.0 Canberra 121.0\n",
      "1604149200.0 Batemans Bay 123.1\n",
      "1604149200.0 Coffs Harbour 119.5\n",
      "1604149200.0 Cooma 121.7\n",
      "1604149200.0 Goulburn 116.4\n",
      "1604149200.0 Wollongong 118.2\n",
      "1604149200.0 Yass 119.9\n"
     ]
    }
   ],
   "source": [
    "array_stuff = []\n",
    "\n",
    "if os.path.exists(fileName):\n",
    "    with open(fileName) as fd:\n",
    "        # Read CSV\n",
    "        reader = csv.reader(fd, delimiter=',')\n",
    "        # Skip header line\n",
    "        next(reader)\n",
    "        for element in reader:\n",
    "            \n",
    "            # I'm sorry, it's ugly\n",
    "            # This goes through \n",
    "            array_stuff.append(Weekly_Price(element[0],\n",
    "                                           element[1],\n",
    "                                           element[2],\n",
    "                                           element[3],\n",
    "                                           element[4],\n",
    "                                           element[5],\n",
    "                                           element[6],\n",
    "                                           element[7],\n",
    "                                           (element[8] if len(element) == 9 else 'n')))\n",
    "            \n",
    "# Create CSV if not exists\n",
    "else:\n",
    "    with open(fFileName, 'w', newline='') as fd:\n",
    "        writer = csv.writer(fd)\n",
    "        # Write Headers\n",
    "        writer.writerow([\"Timestamp (Unix)\",\"Date (YYYY-MM-DD)\",\"Location\", \"Weekly Average\", \"Weekly Change\", \"Variation\", \"Weekly Low\", \"Weekly High\", \"flagged (y/n)\"])\n",
    "            \n",
    "for element in array_stuff:\n",
    "    print (element.time, element.loc, element.avg)"
   ]
  },
  {
   "cell_type": "code",
   "execution_count": 21,
   "metadata": {},
   "outputs": [],
   "source": [
    "# Gets skipped if we already have this weeks valeus\n",
    "if (not check_week(fileName, curr_time)):\n",
    "    ## The request made to get the raw infromation used for populating the table\n",
    "    ## Found in the Networks tab of inspect element\n",
    "    \n",
    "\n",
    "    ## The URL is a JSON file, thus we will be just reading it as a JSON\n",
    "    data = url.json()\n",
    "        \n",
    "    with open(fileName, 'a', newline='') as fd:\n",
    "        writer = csv.writer(fd)\n",
    "        ## Iterate through JSON objects\n",
    "        for item in data:\n",
    "            if data[item]['location'].lower() in targets:\n",
    "                # Following syntax\n",
    "                element = [\n",
    "                    curr_time.timestamp(),\n",
    "                    curr_time.strftime(\"%Y-%m-%d\"),\n",
    "                    data[item]['location'],\n",
    "                    data[item]['weeklyAverage'],\n",
    "                    data[item]['weeklyChange'],\n",
    "                    data[item]['diff'],\n",
    "                    data[item]['weeklyLow'],\n",
    "                    data[item]['weeklyHigh']\n",
    "                ]\n",
    "                \n",
    "                writer.writerow(element)"
   ]
  }
 ],
 "metadata": {
  "kernelspec": {
   "display_name": "Python 3",
   "language": "python",
   "name": "python3"
  },
  "language_info": {
   "codemirror_mode": {
    "name": "ipython",
    "version": 3
   },
   "file_extension": ".py",
   "mimetype": "text/x-python",
   "name": "python",
   "nbconvert_exporter": "python",
   "pygments_lexer": "ipython3",
   "version": "3.8.5"
  }
 },
 "nbformat": 4,
 "nbformat_minor": 4
}
