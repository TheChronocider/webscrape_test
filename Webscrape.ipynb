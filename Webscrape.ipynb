{
 "cells": [
  {
   "cell_type": "code",
   "execution_count": 1,
   "metadata": {},
   "outputs": [],
   "source": [
    "# = = = = = = = = = = = = = \n",
    "# Created:       15:09:2020\n",
    "# Last Updated:  05:11:2020\n",
    "#\n",
    "# Description:  Webscraper targeted at reading table format of fuel prices provided by AIP and preserve them in CSV format\n",
    "#               Focused on using Requests library\n",
    "# = = = = = = = = = = = = = "
   ]
  },
  {
   "cell_type": "code",
   "execution_count": 2,
   "metadata": {},
   "outputs": [],
   "source": [
    "# What I need to do\n",
    "#\n",
    "# Retrieve values from web page\n",
    "# - Convert values to object\n",
    "# - Store values in Array\n",
    "#\n",
    "# Retrieve values from CSV\n",
    "# - Convert values to object\n",
    "# - Store values in Array\n",
    "#\n",
    "# Compare Web values to CSV Values\n",
    "# - Append Web to CSV if new values\n",
    "# - Update CSV values if web values are different from same time\n",
    "# \n",
    "# Update CSV if new or updated values present\n",
    "# - Create new file for old values if too many\n",
    "# - File name: fuel-data-YYYYMMDD-YYYYMMDD.csv"
   ]
  },
  {
   "cell_type": "code",
   "execution_count": 3,
   "metadata": {},
   "outputs": [],
   "source": [
    "import requests\n",
    "import datetime\n",
    "import os\n",
    "import csv"
   ]
  },
  {
   "cell_type": "code",
   "execution_count": 4,
   "metadata": {},
   "outputs": [],
   "source": [
    "def isfloat(value):\n",
    "  try:\n",
    "    float(value)\n",
    "    return True\n",
    "  except ValueError:\n",
    "    return False"
   ]
  },
  {
   "cell_type": "code",
   "execution_count": 33,
   "metadata": {},
   "outputs": [
    {
     "ename": "SyntaxError",
     "evalue": "invalid syntax (<ipython-input-33-3e733175f3e1>, line 25)",
     "output_type": "error",
     "traceback": [
      "\u001b[1;36m  File \u001b[1;32m\"<ipython-input-33-3e733175f3e1>\"\u001b[1;36m, line \u001b[1;32m25\u001b[0m\n\u001b[1;33m    if (self.time == price.time) &&\u001b[0m\n\u001b[1;37m                                  ^\u001b[0m\n\u001b[1;31mSyntaxError\u001b[0m\u001b[1;31m:\u001b[0m invalid syntax\n"
     ]
    }
   ],
   "source": [
    "class Fuel_Price:\n",
    "    def __init__(self, time, date, loc, avg, chng, var, low, high):\n",
    "        self.time = float(time)\n",
    "        self.date = date\n",
    "        self.loc = loc\n",
    "        self.avg = float(avg)\n",
    "        self.low = float(low)\n",
    "        self.high = float(high)\n",
    "        \n",
    "        self.chng = float(chng) if isfloat(chng) else 0.0\n",
    "        self.var = float(var) if isfloat(var) else 0.0\n",
    "       \n",
    "    # Convert object to a useable array to be written to file\n",
    "    def toArray(self):\n",
    "        return [str(self.time),\n",
    "               self.date,\n",
    "               self.loc,\n",
    "               str(self.avg),\n",
    "               str(self.chng),\n",
    "               str(self.var),\n",
    "               str(self.low),\n",
    "               str(self.high)]\n",
    "    \n",
    "    def compare(self, price):\n",
    "        if (self.time == price.time) &&\n",
    "           (self.loc == price.loc):\n",
    "                return True\n",
    "        return False\n"
   ]
  },
  {
   "cell_type": "code",
   "execution_count": 6,
   "metadata": {},
   "outputs": [],
   "source": [
    "def json_to_fuelPrice(fdata, ftime):\n",
    "    # Object Data created from input\n",
    "    prices = []\n",
    "    \n",
    "    for item in fdata:\n",
    "        if fdata[item]['location'].lower() in targets:\n",
    "            prices.append(Fuel_Price(\n",
    "                ftime.timestamp(),\n",
    "                ftime.strftime(\"%Y-%m-%d\"),\n",
    "                fdata[item]['location'],\n",
    "                fdata[item]['weeklyAverage'],\n",
    "                fdata[item]['weeklyChange'],\n",
    "                fdata[item]['diff'],\n",
    "                fdata[item]['weeklyLow'],\n",
    "                fdata[item]['weeklyHigh']\n",
    "            ))\n",
    "            \n",
    "    return prices"
   ]
  },
  {
   "cell_type": "code",
   "execution_count": 7,
   "metadata": {},
   "outputs": [],
   "source": [
    "def get_Sunday():\n",
    "    today = datetime.date.today()\n",
    "\n",
    "    idx = (today.weekday() +1) % 7\n",
    "    \n",
    "    lstSun = today - datetime.timedelta(idx)\n",
    "    \n",
    "    return datetime.datetime(lstSun.year,lstSun.month,lstSun.day)"
   ]
  },
  {
   "cell_type": "code",
   "execution_count": 12,
   "metadata": {},
   "outputs": [],
   "source": [
    "def get_csv_prices(fName):\n",
    "    data = []\n",
    "    if os.path.exists(fName):\n",
    "        with open(fName) as fd:\n",
    "            reader = csv.reader(fd, delimiter=',')\n",
    "            next(reader)\n",
    "            for e in reader:\n",
    "                data.append(Fuel_Price(e[0],e[1],e[2],e[3],e[4],e[5],e[6],e[7]))\n",
    "    return data"
   ]
  },
  {
   "cell_type": "code",
   "execution_count": 9,
   "metadata": {},
   "outputs": [],
   "source": [
    "# Fuel data CSV\n",
    "fileName = \"fuel_data.csv\"\n",
    "\n",
    "# Target Cities\n",
    "targets = ['canberra', 'sydney', 'batemans bay', 'cooma', 'goulburn', 'coffs harbour', 'wollongong', 'yass']\n",
    "\n",
    "# Link to the JSON that contains week values\n",
    "url = requests.get('https://aip.com.au/aip-api-request?api-path=public/api&call=nswUlpTable&fuelType=undefined')"
   ]
  },
  {
   "cell_type": "code",
   "execution_count": 10,
   "metadata": {},
   "outputs": [],
   "source": [
    "# JSON of data retrieved from \n",
    "fuelJSon = url.json()\n",
    "# Convert to Fuel_Price Array\n",
    "urlPrices = json_to_fuelPrice(fuelJSon, get_Sunday())"
   ]
  },
  {
   "cell_type": "code",
   "execution_count": 19,
   "metadata": {},
   "outputs": [],
   "source": [
    "# Get prices from CSV\n",
    "csvPrices = get_csv_prices(fileName)"
   ]
  },
  {
   "cell_type": "code",
   "execution_count": 28,
   "metadata": {},
   "outputs": [],
   "source": [
    "def list_Combine(list1, list2):\n",
    "    time1 = get_Latest_Time(list1)\n",
    "    time2 = list2[0].time\n",
    "    \n",
    "    ## Append if new values to list\n",
    "    if (time1 != time2):\n",
    "        return list1 + list2\n",
    "    else: # Update list\n",
    "        for val1 in list1:\n",
    "            if val1.time == time1:\n",
    "                for val2 in list2:\n",
    "                    if val1.compare(val2):\n",
    "                        val1 = val2\n",
    "    return list1"
   ]
  },
  {
   "cell_type": "code",
   "execution_count": 29,
   "metadata": {},
   "outputs": [],
   "source": [
    "def get_Latest_Time(fList):\n",
    "    timestamp = 0.0\n",
    "    \n",
    "    for val in fList:\n",
    "        if val.time > timestamp:\n",
    "            timestamp = val.time\n",
    "    return timestamp"
   ]
  },
  {
   "cell_type": "code",
   "execution_count": 30,
   "metadata": {},
   "outputs": [
    {
     "name": "stdout",
     "output_type": "stream",
     "text": [
      "1599919200.0\n",
      "1599919200.0\n",
      "1599919200.0\n",
      "1599919200.0\n",
      "1599919200.0\n",
      "1599919200.0\n",
      "1599919200.0\n",
      "1599919200.0\n",
      "1600524000.0\n",
      "1600524000.0\n",
      "1600524000.0\n",
      "1600524000.0\n",
      "1600524000.0\n",
      "1600524000.0\n",
      "1600524000.0\n",
      "1600524000.0\n",
      "1601128800.0\n",
      "1601128800.0\n",
      "1601128800.0\n",
      "1601128800.0\n",
      "1601128800.0\n",
      "1601128800.0\n",
      "1601128800.0\n",
      "1601128800.0\n",
      "1601733600.0\n",
      "1601733600.0\n",
      "1601733600.0\n",
      "1601733600.0\n",
      "1601733600.0\n",
      "1601733600.0\n",
      "1601733600.0\n",
      "1601733600.0\n",
      "1602334800.0\n",
      "1602334800.0\n",
      "1602334800.0\n",
      "1602334800.0\n",
      "1602334800.0\n",
      "1602334800.0\n",
      "1602334800.0\n",
      "1602334800.0\n",
      "1602939600.0\n",
      "1602939600.0\n",
      "1602939600.0\n",
      "1602939600.0\n",
      "1602939600.0\n",
      "1602939600.0\n",
      "1602939600.0\n",
      "1602939600.0\n",
      "1603544400.0\n",
      "1603544400.0\n",
      "1603544400.0\n",
      "1603544400.0\n",
      "1603544400.0\n",
      "1603544400.0\n",
      "1603544400.0\n",
      "1603544400.0\n",
      "1604149200.0\n",
      "1604149200.0\n",
      "1604149200.0\n",
      "1604149200.0\n",
      "1604149200.0\n",
      "1604149200.0\n",
      "1604149200.0\n",
      "1604149200.0\n",
      "1605963600.0\n",
      "1605963600.0\n",
      "1605963600.0\n",
      "1605963600.0\n",
      "1605963600.0\n",
      "1605963600.0\n",
      "1605963600.0\n",
      "1605963600.0\n"
     ]
    }
   ],
   "source": [
    "prices = list_Combine(csvPrices, urlPrices)\n",
    "\n",
    "for val in prices:\n",
    "    print(val.time)"
   ]
  },
  {
   "cell_type": "code",
   "execution_count": null,
   "metadata": {},
   "outputs": [],
   "source": []
  },
  {
   "cell_type": "code",
   "execution_count": null,
   "metadata": {},
   "outputs": [],
   "source": []
  },
  {
   "cell_type": "code",
   "execution_count": 252,
   "metadata": {},
   "outputs": [],
   "source": [
    "def latest_timestamp(fdata):\n",
    "    timestamp = 0.0\n",
    "    \n",
    "    for val in fdata:\n",
    "        if val.time > timestamp:\n",
    "            timestamp = val.time\n",
    "    return timestamp"
   ]
  },
  {
   "cell_type": "code",
   "execution_count": 253,
   "metadata": {},
   "outputs": [],
   "source": [
    "def get_latest(fdata):\n",
    "    timestamp = latest_timestamp(fdata)\n",
    "    \n",
    "    latest = []\n",
    "    \n",
    "    for val in fdata:\n",
    "        if val.time == timestamp:\n",
    "            latest.append(val)\n",
    "            \n",
    "    return latest"
   ]
  },
  {
   "cell_type": "code",
   "execution_count": 254,
   "metadata": {},
   "outputs": [],
   "source": [
    "stored_data = retrieve_data(fileName)\n",
    "\n",
    "# Objects are pass by reference\n",
    "latest_objects = get_latest(stored_data)"
   ]
  },
  {
   "cell_type": "code",
   "execution_count": null,
   "metadata": {},
   "outputs": [],
   "source": []
  },
  {
   "cell_type": "code",
   "execution_count": 260,
   "metadata": {},
   "outputs": [],
   "source": [
    "def convert_weekly(fdata, fcurr_time):\n",
    "    # Object Data created from input\n",
    "    obj_data = []\n",
    "    \n",
    "    for item in fdata:\n",
    "        if fdata[item]['location'].lower() in targets:\n",
    "            # time, date, loc, avg, chng, var, low, high, flag\n",
    "            obj_data.append(Weekly_Price(\n",
    "                fcurr_time.timestamp(),\n",
    "                fcurr_time.strftime(\"%Y-%m-%d\"),\n",
    "                fdata[item]['location'],\n",
    "                fdata[item]['weeklyAverage'],\n",
    "                fdata[item]['weeklyChange'],\n",
    "                fdata[item]['diff'],\n",
    "                fdata[item]['weeklyLow'],\n",
    "                fdata[item]['weeklyHigh'],\n",
    "                'n'\n",
    "            ))\n",
    "            \n",
    "    return obj_data"
   ]
  },
  {
   "cell_type": "code",
   "execution_count": 256,
   "metadata": {},
   "outputs": [],
   "source": [
    "# JSON of data retrieved from \n",
    "data = convert_weekly(url.json(), curr_time)"
   ]
  },
  {
   "cell_type": "code",
   "execution_count": null,
   "metadata": {},
   "outputs": [],
   "source": [
    "def compare_Update(new_obj, exis_obj):\n",
    "    updated = False\n",
    "    \n",
    "    for val1 in exis_obj:\n",
    "        for val2 in new_obj:\n",
    "            if val1.compare_locTime(val2):\n",
    "                if not all(val1.compare_values(val2)):\n",
    "                    val1.update_obj(val2.avg, val2.chng, val2.var, val2.low, val2.high)\n",
    "                    updated = true\n",
    "            elif val1.compare_loc(val2):\n",
    "                \n",
    "        \n",
    "    \n",
    "    return updated"
   ]
  },
  {
   "cell_type": "code",
   "execution_count": 257,
   "metadata": {},
   "outputs": [],
   "source": [
    "# Flag whether we've updated values\n",
    "updated = False\n",
    "\n",
    "# Compare current week to most recent data\n",
    "for val1 in data:\n",
    "    for val2 in latest_objects:\n",
    "        if val2.compare_locTime(val1):\n",
    "            # If values from the same week aren't the same, update them with the more\n",
    "            # Recent ones.\n",
    "            if not all(val2.compare_values(val1)):\n",
    "                val2.update_obj(val1.avg, val1.chng, val1.var, val1.low, val1.high)\n",
    "                updated = True\n",
    "        elif val1.compare_loc(val2):\n",
    "            # If values from two different weeks are identical, flag the value\n",
    "            if all(val2.compare_values(val1)):\n",
    "                val2.update_flag('y')"
   ]
  },
  {
   "cell_type": "code",
   "execution_count": 258,
   "metadata": {},
   "outputs": [],
   "source": [
    "if latest_objects[0].time != data[0].time:\n",
    "    print(\"here\")\n",
    "elif updated:\n",
    "    with open(fileName, 'w', newline='') as fd:\n",
    "        writer = csv.writer(fd)\n",
    "        # Write Headers\n",
    "        writer.writerow([\"Timestamp (Unix)\",\"Date (YYYY-MM-DD)\",\"Location\", \"Weekly Average\", \"Weekly Change\", \"Variation\", \"Weekly Low\", \"Weekly High\", \"flagged (y/n/d)\"])\n",
    "        \n",
    "        for value in stored_data:\n",
    "            writer.writerow(value.toArray())"
   ]
  },
  {
   "cell_type": "code",
   "execution_count": 259,
   "metadata": {},
   "outputs": [],
   "source": [
    "# Gets skipped if we already have this weeks valeus\n",
    "if (not check_week(fileName, curr_time)):\n",
    "    ## The request made to get the raw infromation used for populating the table\n",
    "    ## Found in the Networks tab of inspect element\n",
    "    \n",
    "\n",
    "    ## The URL is a JSON file, thus we will be just reading it as a JSON\n",
    "    data = url.json()\n",
    "        \n",
    "    with open(fileName, 'a', newline='') as fd:\n",
    "        writer = csv.writer(fd)\n",
    "        ## Iterate through JSON objects\n",
    "        for item in data:\n",
    "            if data[item]['location'].lower() in targets:\n",
    "                # Following syntax\n",
    "                element = [\n",
    "                    curr_time.timestamp(),\n",
    "                    curr_time.strftime(\"%Y-%m-%d\"),\n",
    "                    data[item]['location'],\n",
    "                    data[item]['weeklyAverage'],\n",
    "                    data[item]['weeklyChange'],\n",
    "                    data[item]['diff'],\n",
    "                    data[item]['weeklyLow'],\n",
    "                    data[item]['weeklyHigh']\n",
    "                ]\n",
    "                \n",
    "                writer.writerow(element)"
   ]
  },
  {
   "cell_type": "code",
   "execution_count": null,
   "metadata": {},
   "outputs": [],
   "source": []
  },
  {
   "cell_type": "code",
   "execution_count": null,
   "metadata": {},
   "outputs": [],
   "source": []
  },
  {
   "cell_type": "code",
   "execution_count": null,
   "metadata": {},
   "outputs": [],
   "source": []
  }
 ],
 "metadata": {
  "kernelspec": {
   "display_name": "Python 3",
   "language": "python",
   "name": "python3"
  },
  "language_info": {
   "codemirror_mode": {
    "name": "ipython",
    "version": 3
   },
   "file_extension": ".py",
   "mimetype": "text/x-python",
   "name": "python",
   "nbconvert_exporter": "python",
   "pygments_lexer": "ipython3",
   "version": "3.8.5"
  }
 },
 "nbformat": 4,
 "nbformat_minor": 4
}
