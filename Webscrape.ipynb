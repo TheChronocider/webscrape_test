{
 "cells": [
  {
   "cell_type": "code",
   "execution_count": 1,
   "metadata": {},
   "outputs": [],
   "source": [
    "# = = = = = = = = = = = = = \n",
    "# Created:       15:09:2020\n",
    "# Last Updated:  21:09:2020\n",
    "#\n",
    "# Description:  Webscraper targeted at reading table format of fuel prices provided by AIP and preserve them in CSV format\n",
    "#               Focused on using Requests library\n",
    "# = = = = = = = = = = = = = "
   ]
  },
  {
   "cell_type": "code",
   "execution_count": 2,
   "metadata": {},
   "outputs": [],
   "source": [
    "import datetime\n",
    "import os\n",
    "import csv\n",
    "\n",
    "# Focusing on only using Requests\n",
    "import requests"
   ]
  },
  {
   "cell_type": "code",
   "execution_count": 3,
   "metadata": {},
   "outputs": [],
   "source": [
    "# Input/s:  String, datetime\n",
    "# Output/s: Boolean\n",
    "#\n",
    "# Description: Checks if file exists and then checks if current week has been recorded. Returns true is current week recorded, else false\n",
    "#\n",
    "def check_week(fFileName, fCurr_time):\n",
    "    if os.path.exists(fFileName):\n",
    "        with open(fFileName) as fd:\n",
    "            # Read CSV\n",
    "            reader = csv.reader(fd, delimiter=',')\n",
    "            # Skip header line\n",
    "            next(reader)\n",
    "            for element in reader:\n",
    "                # Compare and exit if we have completed this timestamp before\n",
    "                if float(element[0]) == fCurr_time.timestamp():\n",
    "                    # Return that we found that we have done this week\n",
    "                    return True\n",
    "    # Create CSV if not exists\n",
    "    else:\n",
    "        with open(fFileName, 'w', newline='') as fd:\n",
    "            writer = csv.writer(fd)\n",
    "            # Write Headers\n",
    "            writer.writerow([\"Timestamp (Unix)\",\"Date (YYYY-MM-DD)\",\"Location\", \"Weekly Average\", \"Weekly Change\", \"Variation\", \"Weekly Low\", \"Weekly High\"])\n",
    "    \n",
    "    # Return false as timestamp doesn't already exists\n",
    "    return False\n",
    "    "
   ]
  },
  {
   "cell_type": "code",
   "execution_count": 28,
   "metadata": {},
   "outputs": [],
   "source": [
    "# Fuel data CSV\n",
    "fileName = \"fuel_data.csv\"\n",
    "\n",
    "# Target Cities\n",
    "targets = ['canberra', 'sydney', 'batemans bay', 'cooma', 'goulburn', 'coffs harbour', 'wollongong', 'yass']\n",
    "\n",
    "# Link to the JSON that contains week values\n",
    "url = requests.get('https://aip.com.au/aip-api-request?api-path=public/api&call=nswUlpTable&fuelType=undefined')"
   ]
  },
  {
   "cell_type": "code",
   "execution_count": 29,
   "metadata": {},
   "outputs": [],
   "source": [
    "# Get current date\n",
    "curr_day = datetime.date.today()\n",
    "\n",
    "# Calculate day subtraction to retrieve Sunday\n",
    "idx = (curr_day.weekday() +1) % 7\n",
    "\n",
    "# Get datetime.date of last sunday\n",
    "curr_week = curr_day - datetime.timedelta(idx)\n",
    "\n",
    "# Convert to datetime object\n",
    "curr_time = datetime.datetime(curr_week.year,curr_week.month,curr_week.day)"
   ]
  },
  {
   "cell_type": "code",
   "execution_count": null,
   "metadata": {},
   "outputs": [],
   "source": []
  },
  {
   "cell_type": "code",
   "execution_count": 30,
   "metadata": {},
   "outputs": [],
   "source": [
    "class Weekly_Price:\n",
    "    #This object requires values to be made\n",
    "    #\"Timestamp (Unix)\",\"Date (YYYY-MM-DD)\",\"Location\", \"Weekly Average\", \"Weekly Change\", \"Variation\", \"Weekly Low\", \"Weekly High\", \"flagged (y/n)\"\n",
    "    def __init__(self, time, date, loc, avg, chng, var, low, high, flag):\n",
    "        self.time = float(time)\n",
    "        self.date = date\n",
    "        self.loc = loc\n",
    "        self.avg = float(avg)\n",
    "   \n",
    "        self.low = float(low)\n",
    "        self.high = float(high)\n",
    "        \n",
    "        self.flag = flag\n",
    "        \n",
    "        # Below values have the potential to be \"-\"\n",
    "        # Check if chng has a value else it's empty\n",
    "        self.chng = float(chng) if isinstance(chng, float) else 0.0\n",
    "        # Check if var has a value else it's empty\n",
    "        self.var = float(var) if isinstance(var, float) else 0.0\n",
    "       \n",
    "    # Convert object to a useable array to be written to file\n",
    "    def Write_Array():\n",
    "        return [str(self.time),\n",
    "               self.date,\n",
    "               self.loc,\n",
    "               str(self.avg),\n",
    "               str(self.chng),\n",
    "               str(self.var),\n",
    "               str(self.low),\n",
    "               str(self.high),\n",
    "               self.flag]\n",
    "        "
   ]
  },
  {
   "cell_type": "code",
   "execution_count": 32,
   "metadata": {
    "scrolled": false
   },
   "outputs": [],
   "source": [
    "stored_data = []\n",
    "\n",
    "if os.path.exists(fileName):\n",
    "    with open(fileName) as fd:\n",
    "        # Read CSV\n",
    "        reader = csv.reader(fd, delimiter=',')\n",
    "        # Skip header line\n",
    "        next(reader)\n",
    "        for element in reader:\n",
    "            \n",
    "            # I'm sorry, it's ugly\n",
    "            # This goes through \n",
    "            stored_data.append(Weekly_Price(element[0],\n",
    "                                           element[1],\n",
    "                                           element[2],\n",
    "                                           element[3],\n",
    "                                           element[4],\n",
    "                                           element[5],\n",
    "                                           element[6],\n",
    "                                           element[7],\n",
    "                                           (element[8] if len(element) == 9 else 'n')))\n",
    "            \n",
    "# Create CSV if not exists\n",
    "else:\n",
    "    with open(fFileName, 'w', newline='') as fd:\n",
    "        writer = csv.writer(fd)\n",
    "        # Write Headers\n",
    "        writer.writerow([\"Timestamp (Unix)\",\"Date (YYYY-MM-DD)\",\"Location\", \"Weekly Average\", \"Weekly Change\", \"Variation\", \"Weekly Low\", \"Weekly High\", \"flagged (y/n)\"])\n"
   ]
  },
  {
   "cell_type": "code",
   "execution_count": 39,
   "metadata": {},
   "outputs": [],
   "source": [
    "def convert_weekly(fdata, fcurr_time):\n",
    "    # Object Data created from input\n",
    "    obj_data = []\n",
    "    \n",
    "    for item in fdata:\n",
    "        if fdata[item]['location'].lower() in targets:\n",
    "            # time, date, loc, avg, chng, var, low, high, flag\n",
    "            obj_data.append(Weekly_Price(\n",
    "                fcurr_time.timestamp(),\n",
    "                fcurr_time.strftime(\"%Y-%m-%d\"),\n",
    "                fdata[item]['location'],\n",
    "                fdata[item]['weeklyAverage'],\n",
    "                fdata[item]['weeklyChange'],\n",
    "                fdata[item]['diff'],\n",
    "                fdata[item]['weeklyLow'],\n",
    "                fdata[item]['weeklyHigh'],\n",
    "                'n'\n",
    "            ))\n",
    "            \n",
    "    return obj_data"
   ]
  },
  {
   "cell_type": "code",
   "execution_count": 41,
   "metadata": {},
   "outputs": [
    {
     "name": "stdout",
     "output_type": "stream",
     "text": [
      "1604149200.0 Sydney 108.7\n",
      "1604149200.0 Canberra 121.0\n",
      "1604149200.0 Batemans Bay 123.1\n",
      "1604149200.0 Coffs Harbour 119.5\n",
      "1604149200.0 Cooma 121.7\n",
      "1604149200.0 Goulburn 116.4\n",
      "1604149200.0 Wollongong 118.2\n",
      "1604149200.0 Yass 119.9\n"
     ]
    }
   ],
   "source": [
    "# JSON of data retrieved from \n",
    "data = convert_weekly(url.json(), curr_time)\n",
    "\n",
    "#r_data = []\n",
    "for val in data:\n",
    "    print (val.time, val.loc, val.avg)\n",
    "\n",
    "        "
   ]
  },
  {
   "cell_type": "code",
   "execution_count": 21,
   "metadata": {},
   "outputs": [],
   "source": [
    "# Gets skipped if we already have this weeks valeus\n",
    "if (not check_week(fileName, curr_time)):\n",
    "    ## The request made to get the raw infromation used for populating the table\n",
    "    ## Found in the Networks tab of inspect element\n",
    "    \n",
    "\n",
    "    ## The URL is a JSON file, thus we will be just reading it as a JSON\n",
    "    data = url.json()\n",
    "        \n",
    "    with open(fileName, 'a', newline='') as fd:\n",
    "        writer = csv.writer(fd)\n",
    "        ## Iterate through JSON objects\n",
    "        for item in data:\n",
    "            if data[item]['location'].lower() in targets:\n",
    "                # Following syntax\n",
    "                element = [\n",
    "                    curr_time.timestamp(),\n",
    "                    curr_time.strftime(\"%Y-%m-%d\"),\n",
    "                    data[item]['location'],\n",
    "                    data[item]['weeklyAverage'],\n",
    "                    data[item]['weeklyChange'],\n",
    "                    data[item]['diff'],\n",
    "                    data[item]['weeklyLow'],\n",
    "                    data[item]['weeklyHigh']\n",
    "                ]\n",
    "                \n",
    "                writer.writerow(element)"
   ]
  }
 ],
 "metadata": {
  "kernelspec": {
   "display_name": "Python 3",
   "language": "python",
   "name": "python3"
  },
  "language_info": {
   "codemirror_mode": {
    "name": "ipython",
    "version": 3
   },
   "file_extension": ".py",
   "mimetype": "text/x-python",
   "name": "python",
   "nbconvert_exporter": "python",
   "pygments_lexer": "ipython3",
   "version": "3.8.5"
  }
 },
 "nbformat": 4,
 "nbformat_minor": 4
}
