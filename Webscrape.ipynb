{
 "cells": [
  {
   "cell_type": "code",
   "execution_count": 1,
   "metadata": {},
   "outputs": [],
   "source": [
    "# = = = = = = = = = = = = = \n",
    "# Created:       15:09:2020\n",
    "# Last Updated:  21:09:2020\n",
    "#\n",
    "# Description:  Webscraper targeted at reading table format of fuel prices provided by AIP and preserve them in CSV format\n",
    "#               Focused on using Requests library\n",
    "# = = = = = = = = = = = = = "
   ]
  },
  {
   "cell_type": "code",
   "execution_count": 207,
   "metadata": {},
   "outputs": [],
   "source": [
    "import datetime\n",
    "import os\n",
    "import csv\n",
    "\n",
    "# Focusing on only using Requests\n",
    "import requests"
   ]
  },
  {
   "cell_type": "code",
   "execution_count": null,
   "metadata": {},
   "outputs": [],
   "source": []
  },
  {
   "cell_type": "code",
   "execution_count": 208,
   "metadata": {},
   "outputs": [],
   "source": [
    "# Fuel data CSV\n",
    "fileName = \"fuel_data.csv\"\n",
    "\n",
    "# Target Cities\n",
    "targets = ['canberra', 'sydney', 'batemans bay', 'cooma', 'goulburn', 'coffs harbour', 'wollongong', 'yass']\n",
    "\n",
    "# Link to the JSON that contains week values\n",
    "url = requests.get('https://aip.com.au/aip-api-request?api-path=public/api&call=nswUlpTable&fuelType=undefined')"
   ]
  },
  {
   "cell_type": "code",
   "execution_count": 209,
   "metadata": {},
   "outputs": [],
   "source": [
    "# Get current date\n",
    "curr_day = datetime.date.today()\n",
    "\n",
    "# Calculate day subtraction to retrieve Sunday\n",
    "idx = (curr_day.weekday() +1) % 7\n",
    "\n",
    "# Get datetime.date of last sunday\n",
    "curr_week = curr_day - datetime.timedelta(idx)\n",
    "\n",
    "# Convert to datetime object\n",
    "curr_time = datetime.datetime(curr_week.year,curr_week.month,curr_week.day)"
   ]
  },
  {
   "cell_type": "code",
   "execution_count": 210,
   "metadata": {},
   "outputs": [],
   "source": [
    "def isfloat(value):\n",
    "  try:\n",
    "    float(value)\n",
    "    return True\n",
    "  except ValueError:\n",
    "    return False"
   ]
  },
  {
   "cell_type": "code",
   "execution_count": null,
   "metadata": {},
   "outputs": [],
   "source": []
  },
  {
   "cell_type": "code",
   "execution_count": 211,
   "metadata": {},
   "outputs": [],
   "source": [
    "class Weekly_Price:\n",
    "    #This object requires values to be made\n",
    "    #\"Timestamp (Unix)\",\"Date (YYYY-MM-DD)\",\"Location\", \"Weekly Average\", \"Weekly Change\", \"Variation\", \"Weekly Low\", \"Weekly High\", \"flagged (y/n)\"\n",
    "    def __init__(self, time, date, loc, avg, chng, var, low, high, flag):\n",
    "        self.time = float(time)\n",
    "        self.date = date\n",
    "        self.loc = loc\n",
    "        self.avg = float(avg)\n",
    "   \n",
    "        self.low = float(low)\n",
    "        self.high = float(high)\n",
    "        \n",
    "        self.flag = flag\n",
    "        \n",
    "        # Below values have the potential to be \"-\"\n",
    "        # Check if chng has a value else it's empty\n",
    "        self.chng = float(chng) if isfloat(chng) else 0.0\n",
    "        # Check if var has a value else it's empty\n",
    "        self.var = float(var) if isfloat(var) else 0.0\n",
    "       \n",
    "    # Convert object to a useable array to be written to file\n",
    "    def toArray(self):\n",
    "        return [str(self.time),\n",
    "               self.date,\n",
    "               self.loc,\n",
    "               str(self.avg),\n",
    "               str(self.chng),\n",
    "               str(self.var),\n",
    "               str(self.low),\n",
    "               str(self.high),\n",
    "               self.flag]\n",
    "    \n",
    "    # Update values in object with new values if necessary\n",
    "    def update_obj(self, avg, chng, var, low, high):\n",
    "        self.avg = avg\n",
    "        self.chng = chng\n",
    "        self.var = var\n",
    "        self.low = low\n",
    "        self.high = high\n",
    "        \n",
    "    # Compare and see if the objects are of the same date\n",
    "    def compare_locTime(self, obj):\n",
    "        if (self.time == obj.time) & (self.loc == obj.loc):\n",
    "            return True\n",
    "        return False\n",
    "    \n",
    "    def compare_loc(self, obj):\n",
    "        if (self.loc == obj.loc):\n",
    "            return True\n",
    "        return False\n",
    "        \n",
    "    # Compares values of object and returns array of which ones differ\n",
    "    # True = same, False = different\n",
    "    def compare_values(self, obj):\n",
    "        return [\n",
    "            True if self.avg == obj.avg else False,\n",
    "            True if self.chng == obj.chng else False,\n",
    "            True if self.var == obj.var else False,\n",
    "            True if self.low == obj.low else False,\n",
    "            True if self.high == obj.high else False,\n",
    "        ]\n",
    "        \n",
    "    \n",
    "    # Update flag if necessary\n",
    "    def update_flag(self, flag):\n",
    "        self.flag = flag\n",
    "        "
   ]
  },
  {
   "cell_type": "code",
   "execution_count": 212,
   "metadata": {
    "scrolled": false
   },
   "outputs": [],
   "source": [
    "def retrieve_data(fFileName):\n",
    "    stored_data = []\n",
    "\n",
    "    if os.path.exists(fFileName):\n",
    "        with open(fFileName) as fd:\n",
    "            # Read CSV\n",
    "            reader = csv.reader(fd, delimiter=',')\n",
    "            # Skip header line\n",
    "            next(reader)\n",
    "            for element in reader:\n",
    "\n",
    "                # I'm sorry, it's ugly\n",
    "                # This goes through \n",
    "                stored_data.append(Weekly_Price(element[0],\n",
    "                                               element[1],\n",
    "                                               element[2],\n",
    "                                               element[3],\n",
    "                                               element[4],\n",
    "                                               element[5],\n",
    "                                               element[6],\n",
    "                                               element[7],\n",
    "                                               (element[8] if len(element) == 9 else 'n')))\n",
    "    return stored_data"
   ]
  },
  {
   "cell_type": "code",
   "execution_count": 213,
   "metadata": {},
   "outputs": [],
   "source": [
    "def latest_timestamp(fdata):\n",
    "    timestamp = 0.0\n",
    "    \n",
    "    for val in fdata:\n",
    "        if val.time > timestamp:\n",
    "            timestamp = val.time\n",
    "    return timestamp"
   ]
  },
  {
   "cell_type": "code",
   "execution_count": 214,
   "metadata": {},
   "outputs": [],
   "source": [
    "def get_latest(fdata):\n",
    "    timestamp = latest_timestamp(fdata)\n",
    "    \n",
    "    latest = []\n",
    "    \n",
    "    for val in fdata:\n",
    "        if val.time == timestamp:\n",
    "            latest.append(val)\n",
    "            \n",
    "    return latest"
   ]
  },
  {
   "cell_type": "code",
   "execution_count": 215,
   "metadata": {},
   "outputs": [],
   "source": [
    "stored_data = retrieve_data(fileName)\n",
    "\n",
    "# Objects are pass by reference\n",
    "latest_objects = get_latest(stored_data)"
   ]
  },
  {
   "cell_type": "code",
   "execution_count": null,
   "metadata": {},
   "outputs": [],
   "source": []
  },
  {
   "cell_type": "code",
   "execution_count": 216,
   "metadata": {},
   "outputs": [],
   "source": [
    "def convert_weekly(fdata, fcurr_time):\n",
    "    # Object Data created from input\n",
    "    obj_data = []\n",
    "    \n",
    "    for item in fdata:\n",
    "        if fdata[item]['location'].lower() in targets:\n",
    "            # time, date, loc, avg, chng, var, low, high, flag\n",
    "            obj_data.append(Weekly_Price(\n",
    "                fcurr_time.timestamp(),\n",
    "                fcurr_time.strftime(\"%Y-%m-%d\"),\n",
    "                fdata[item]['location'],\n",
    "                fdata[item]['weeklyAverage'],\n",
    "                fdata[item]['weeklyChange'],\n",
    "                fdata[item]['diff'],\n",
    "                fdata[item]['weeklyLow'],\n",
    "                fdata[item]['weeklyHigh'],\n",
    "                'n'\n",
    "            ))\n",
    "            \n",
    "    return obj_data"
   ]
  },
  {
   "cell_type": "code",
   "execution_count": 217,
   "metadata": {},
   "outputs": [],
   "source": [
    "# JSON of data retrieved from \n",
    "data = convert_weekly(url.json(), curr_time)"
   ]
  },
  {
   "cell_type": "code",
   "execution_count": 226,
   "metadata": {},
   "outputs": [
    {
     "name": "stdout",
     "output_type": "stream",
     "text": [
      "['1604149200.0', '2020-11-01', 'Sydney', '108.7', '-9.9', '0.0', '106.1', '112.6', 'n']\n",
      "['1604149200.0', '2020-11-01', 'Sydney', '108.7', '-9.9', '0.0', '106.1', '112.6', 'n']\n",
      "[True, True, True, True, True]\n",
      "['1604149200.0', '2020-11-01', 'Canberra', '121.0', '0.0', '12.3', '121.0', '121.1', 'n']\n",
      "['1604149200.0', '2020-11-01', 'Canberra', '121.0', '0.0', '12.3', '121.0', '121.1', 'n']\n",
      "[True, True, True, True, True]\n",
      "['1604149200.0', '2020-11-01', 'Batemans Bay', '123.1', '0.0', '14.4', '123.1', '123.1', 'n']\n",
      "['1604149200.0', '2020-11-01', 'Batemans Bay', '123.1', '0.0', '14.4', '123.1', '123.1', 'n']\n",
      "[True, True, True, True, True]\n",
      "['1604149200.0', '2020-11-01', 'Coffs Harbour', '119.5', '0.0', '10.8', '119.5', '119.5', 'n']\n",
      "['1604149200.0', '2020-11-01', 'Coffs Harbour', '119.5', '0.0', '10.8', '119.5', '119.5', 'n']\n",
      "[True, True, True, True, True]\n",
      "['1604149200.0', '2020-11-01', 'Cooma', '121.7', '-0.3', '13.0', '121.7', '121.7', 'n']\n",
      "['1604149200.0', '2020-11-01', 'Cooma', '121.7', '-0.3', '13.0', '121.7', '121.7', 'n']\n",
      "[True, True, True, True, True]\n",
      "['1604149200.0', '2020-11-01', 'Goulburn', '116.4', '-0.0', '7.6', '116.3', '116.4', 'n']\n",
      "['1604149200.0', '2020-11-01', 'Goulburn', '116.4', '0.0', '7.6', '116.3', '116.4', 'n']\n",
      "[True, True, True, True, True]\n",
      "['1604149200.0', '2020-11-01', 'Wollongong', '118.2', '-0.9', '9.5', '117.5', '118.9', 'n']\n",
      "['1604149200.0', '2020-11-01', 'Wollongong', '118.2', '-0.9', '9.5', '117.5', '118.9', 'n']\n",
      "[True, True, True, True, True]\n",
      "['1604149200.0', '2020-11-01', 'Yass', '119.9', '-0.0', '11.1', '119.3', '120.7', 'n']\n",
      "['1604149200.0', '2020-11-01', 'Yass', '110.9', '0.0', '11.1', '119.3', '120.7', 'n']\n",
      "[False, True, True, True, True]\n",
      "test\n"
     ]
    }
   ],
   "source": [
    "# Flag whether we've updated values\n",
    "updated = False\n",
    "\n",
    "# Compare current week to most recent data\n",
    "for val1 in data:\n",
    "    for val2 in latest_objects:\n",
    "        if val2.compare_locTime(val1):\n",
    "            print(val1.toArray())\n",
    "            print(val2.toArray())\n",
    "            print(val2.compare_values(val1))\n",
    "            # If values from the same week aren't the same, update them with the more\n",
    "            # Recent ones.\n",
    "            if not all(val2.compare_values(val1)):\n",
    "                val2.update_obj(val1.avg, val1.chng, val1.var, val1.low, val1.high)\n",
    "                updated = True\n",
    "        elif val1.compare_loc(val2):\n",
    "            # If values from two different weeks are identical, flag the value\n",
    "            if all(val2.compare_values(val1)):\n",
    "                val2.update_flag('y')"
   ]
  },
  {
   "cell_type": "code",
   "execution_count": 219,
   "metadata": {},
   "outputs": [],
   "source": [
    "if latest_objects[0].time != data[0].time:\n",
    "    print(\"here\")\n",
    "elif updated:\n",
    "    with open(fileName, 'w', newline='') as fd:\n",
    "        writer = csv.writer(fd)\n",
    "        # Write Headers\n",
    "        writer.writerow([\"Timestamp (Unix)\",\"Date (YYYY-MM-DD)\",\"Location\", \"Weekly Average\", \"Weekly Change\", \"Variation\", \"Weekly Low\", \"Weekly High\", \"flagged (y/n/d)\"])\n",
    "        \n",
    "        for value in stored_data:\n",
    "            writer.writerow(value.toArray())"
   ]
  },
  {
   "cell_type": "code",
   "execution_count": 220,
   "metadata": {},
   "outputs": [],
   "source": [
    "# Gets skipped if we already have this weeks valeus\n",
    "if (not check_week(fileName, curr_time)):\n",
    "    ## The request made to get the raw infromation used for populating the table\n",
    "    ## Found in the Networks tab of inspect element\n",
    "    \n",
    "\n",
    "    ## The URL is a JSON file, thus we will be just reading it as a JSON\n",
    "    data = url.json()\n",
    "        \n",
    "    with open(fileName, 'a', newline='') as fd:\n",
    "        writer = csv.writer(fd)\n",
    "        ## Iterate through JSON objects\n",
    "        for item in data:\n",
    "            if data[item]['location'].lower() in targets:\n",
    "                # Following syntax\n",
    "                element = [\n",
    "                    curr_time.timestamp(),\n",
    "                    curr_time.strftime(\"%Y-%m-%d\"),\n",
    "                    data[item]['location'],\n",
    "                    data[item]['weeklyAverage'],\n",
    "                    data[item]['weeklyChange'],\n",
    "                    data[item]['diff'],\n",
    "                    data[item]['weeklyLow'],\n",
    "                    data[item]['weeklyHigh']\n",
    "                ]\n",
    "                \n",
    "                writer.writerow(element)"
   ]
  },
  {
   "cell_type": "code",
   "execution_count": null,
   "metadata": {},
   "outputs": [],
   "source": []
  },
  {
   "cell_type": "code",
   "execution_count": null,
   "metadata": {},
   "outputs": [],
   "source": []
  },
  {
   "cell_type": "code",
   "execution_count": null,
   "metadata": {},
   "outputs": [],
   "source": []
  }
 ],
 "metadata": {
  "kernelspec": {
   "display_name": "Python 3",
   "language": "python",
   "name": "python3"
  },
  "language_info": {
   "codemirror_mode": {
    "name": "ipython",
    "version": 3
   },
   "file_extension": ".py",
   "mimetype": "text/x-python",
   "name": "python",
   "nbconvert_exporter": "python",
   "pygments_lexer": "ipython3",
   "version": "3.8.5"
  }
 },
 "nbformat": 4,
 "nbformat_minor": 4
}
