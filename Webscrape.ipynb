{
 "cells": [
  {
   "cell_type": "code",
   "execution_count": 191,
   "metadata": {},
   "outputs": [],
   "source": [
    "# = = = = = = = = = = = = = \n",
    "# Created:       15:09:2020\n",
    "# Last Updated:  21:09:2020\n",
    "#\n",
    "# Description:  Webscraper targeted at reading table format of fuel prices provided by AIP and preserve them in CSV format\n",
    "#               Focused on using Requests library\n",
    "# = = = = = = = = = = = = = "
   ]
  },
  {
   "cell_type": "code",
   "execution_count": 15,
   "metadata": {},
   "outputs": [],
   "source": [
    "import datetime\n",
    "import os\n",
    "import csv\n",
    "\n",
    "# Focusing on only using Requests\n",
    "import requests"
   ]
  },
  {
   "cell_type": "code",
   "execution_count": 16,
   "metadata": {},
   "outputs": [],
   "source": [
    "# Input/s:  String, datetime\n",
    "# Output/s: Boolean\n",
    "#\n",
    "# Description: Checks if file exists and then checks if current week has been recorded. Returns true is current week recorded, else false\n",
    "#\n",
    "def check_week(fFileName, fCurr_time):\n",
    "    if os.path.exists(fFileName):\n",
    "        with open(fFileName) as fd:\n",
    "            # Read CSV\n",
    "            reader = csv.reader(fd, delimiter=',')\n",
    "            # Skip header line\n",
    "            next(reader)\n",
    "            for element in reader:\n",
    "                # Compare and exit if we have completed this timestamp before\n",
    "                if float(element[0]) == fCurr_time.timestamp():\n",
    "                    # Return that we found that we have done this week\n",
    "                    return True\n",
    "    # Create CSV if not exists\n",
    "    else:\n",
    "        with open(fFileName, 'w', newline='') as fd:\n",
    "            writer = csv.writer(fd)\n",
    "            # Write Headers\n",
    "            writer.writerow([\"Timestamp (Unix)\",\"Date (YYYY-MM-DD)\",\"Location\", \"Weekly Average\", \"Weekly Change\", \"Variation\", \"Weekly Low\", \"Weekly High\"])\n",
    "    \n",
    "    # Return false as timestamp doesn't already exists\n",
    "    return False\n",
    "    "
   ]
  },
  {
   "cell_type": "code",
   "execution_count": 17,
   "metadata": {},
   "outputs": [],
   "source": [
    "# Fuel data CSV\n",
    "fileName = \"fuel_data.csv\"\n",
    "\n",
    "# Target Cities\n",
    "targets = ['canberra', 'sydney', 'batemans bay', 'cooma', 'goulburn', 'coffs harbour', 'wollongong', 'yass']"
   ]
  },
  {
   "cell_type": "code",
   "execution_count": 18,
   "metadata": {},
   "outputs": [],
   "source": [
    "# Get current date\n",
    "curr_day = datetime.date.today()\n",
    "\n",
    "# Calculate day subtraction to retrieve Sunday\n",
    "idx = (curr_day.weekday() + 1) % 7\n",
    "\n",
    "# Get datetime.date of last sunday\n",
    "curr_week = curr_day - datetime.timedelta(idx)\n",
    "\n",
    "# Convert to datetime object\n",
    "curr_time = datetime.datetime(curr_week.year,curr_week.month,curr_week.day)"
   ]
  },
  {
   "cell_type": "code",
   "execution_count": 21,
   "metadata": {},
   "outputs": [],
   "source": [
    "# Gets skipped if we already have this weeks valeus\n",
    "if (not check_week(fileName, curr_time)):\n",
    "    ## The request made to get the raw infromation used for populating the table\n",
    "    ## Found in the Networks tab of inspect element\n",
    "    url = requests.get('https://aip.com.au/aip-api-request?api-path=public/api&call=nswUlpTable&fuelType=undefined')\n",
    "\n",
    "    ## The URL is a JSON file, thus we will be just reading it as a JSON\n",
    "    data = url.json()\n",
    "        \n",
    "    with open(fileName, 'a', newline='') as fd:\n",
    "        writer = csv.writer(fd)\n",
    "        ## Iterate through JSON objects\n",
    "        for item in data:\n",
    "            if data[item]['location'].lower() in targets:\n",
    "                # Following syntax\n",
    "                element = [\n",
    "                    curr_time.timestamp(),\n",
    "                    curr_time.strftime(\"%Y-%m-%d\"),\n",
    "                    data[item]['location'],\n",
    "                    data[item]['weeklyAverage'],\n",
    "                    data[item]['weeklyChange'],\n",
    "                    data[item]['diff'],\n",
    "                    data[item]['weeklyLow'],\n",
    "                    data[item]['weeklyHigh']\n",
    "                ]\n",
    "                \n",
    "                writer.writerow(element)"
   ]
  }
 ],
 "metadata": {
  "kernelspec": {
   "display_name": "Python 3",
   "language": "python",
   "name": "python3"
  },
  "language_info": {
   "codemirror_mode": {
    "name": "ipython",
    "version": 3
   },
   "file_extension": ".py",
   "mimetype": "text/x-python",
   "name": "python",
   "nbconvert_exporter": "python",
   "pygments_lexer": "ipython3",
   "version": "3.8.5"
  }
 },
 "nbformat": 4,
 "nbformat_minor": 4
}
